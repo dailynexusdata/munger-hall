{
 "cells": [
  {
   "cell_type": "code",
   "execution_count": 2,
   "id": "39fbdd6e",
   "metadata": {},
   "outputs": [],
   "source": [
    "import pandas as pd"
   ]
  },
  {
   "cell_type": "code",
   "execution_count": 105,
   "id": "4f129d73",
   "metadata": {},
   "outputs": [],
   "source": [
    "data = pd.read_csv(\"munger.csv\", sep='\\t')\n",
    "data2 = pd.read_csv(\"munger_hall.csv\")\n",
    "stop_words = open(\"buckley-salton.txt\").read()\n"
   ]
  },
  {
   "cell_type": "code",
   "execution_count": 74,
   "id": "d99a0bf2",
   "metadata": {
    "scrolled": true
   },
   "outputs": [
    {
     "data": {
      "text/html": [
       "<div>\n",
       "<style scoped>\n",
       "    .dataframe tbody tr th:only-of-type {\n",
       "        vertical-align: middle;\n",
       "    }\n",
       "\n",
       "    .dataframe tbody tr th {\n",
       "        vertical-align: top;\n",
       "    }\n",
       "\n",
       "    .dataframe thead th {\n",
       "        text-align: right;\n",
       "    }\n",
       "</style>\n",
       "<table border=\"1\" class=\"dataframe\">\n",
       "  <thead>\n",
       "    <tr style=\"text-align: right;\">\n",
       "      <th></th>\n",
       "      <th>id</th>\n",
       "      <th>conversation_id</th>\n",
       "      <th>created_at</th>\n",
       "      <th>date</th>\n",
       "      <th>time</th>\n",
       "      <th>timezone</th>\n",
       "      <th>user_id</th>\n",
       "      <th>username</th>\n",
       "      <th>name</th>\n",
       "      <th>place</th>\n",
       "      <th>tweet</th>\n",
       "      <th>language</th>\n",
       "      <th>mentions</th>\n",
       "      <th>urls</th>\n",
       "      <th>photos</th>\n",
       "      <th>replies_count</th>\n",
       "      <th>retweets_count</th>\n",
       "      <th>likes_count</th>\n",
       "      <th>hashtags</th>\n",
       "      <th>cashtags</th>\n",
       "      <th>link</th>\n",
       "      <th>retweet</th>\n",
       "      <th>quote_url</th>\n",
       "      <th>video</th>\n",
       "      <th>thumbnail</th>\n",
       "      <th>near</th>\n",
       "      <th>geo</th>\n",
       "      <th>source</th>\n",
       "      <th>user_rt_id</th>\n",
       "      <th>user_rt</th>\n",
       "      <th>retweet_id</th>\n",
       "      <th>reply_to</th>\n",
       "      <th>retweet_date</th>\n",
       "      <th>translate</th>\n",
       "      <th>trans_src</th>\n",
       "      <th>trans_dest</th>\n",
       "    </tr>\n",
       "  </thead>\n",
       "  <tbody>\n",
       "    <tr>\n",
       "      <th>0</th>\n",
       "      <td>1565453867843739649</td>\n",
       "      <td>1565355888256466946</td>\n",
       "      <td>2022-09-01 14:37:41 PDT</td>\n",
       "      <td>2022-09-01</td>\n",
       "      <td>14:37:41</td>\n",
       "      <td>-700</td>\n",
       "      <td>4229625927</td>\n",
       "      <td>mungermaxime</td>\n",
       "      <td>Heck off, Commie</td>\n",
       "      <td>NaN</td>\n",
       "      <td>@Whiskey2ooo @Sebhockey24 @338Canada @JeanMarcLeger1 @2closetocall</td>\n",
       "      <td>qam</td>\n",
       "      <td>[]</td>\n",
       "      <td>[]</td>\n",
       "      <td>[]</td>\n",
       "      <td>0</td>\n",
       "      <td>0</td>\n",
       "      <td>0</td>\n",
       "      <td>[]</td>\n",
       "      <td>[]</td>\n",
       "      <td>https://twitter.com/MungerMaxime/status/1565453867843739649</td>\n",
       "      <td>False</td>\n",
       "      <td>NaN</td>\n",
       "      <td>0</td>\n",
       "      <td>NaN</td>\n",
       "      <td>NaN</td>\n",
       "      <td>NaN</td>\n",
       "      <td>NaN</td>\n",
       "      <td>NaN</td>\n",
       "      <td>NaN</td>\n",
       "      <td>NaN</td>\n",
       "      <td>[{'screen_name': 'Whiskey2ooo', 'name': 'Sensei alexandre prevost', 'id': '176168264'}, {'screen_name': 'Sebhockey24', 'name': 'Sébastien Gauthier', 'id': '1519681215628034054'}, {'screen_name': '338Canada', 'name': 'Philippe J. Fournier', 'id': '3615433823'}, {'screen_name': 'JeanMarcLeger1', 'name': 'Jean-Marc Leger', 'id': '591060507'}]</td>\n",
       "      <td>NaN</td>\n",
       "      <td>NaN</td>\n",
       "      <td>NaN</td>\n",
       "      <td>NaN</td>\n",
       "    </tr>\n",
       "    <tr>\n",
       "      <th>1</th>\n",
       "      <td>1565453246587473920</td>\n",
       "      <td>1565453246587473920</td>\n",
       "      <td>2022-09-01 14:35:13 PDT</td>\n",
       "      <td>2022-09-01</td>\n",
       "      <td>14:35:13</td>\n",
       "      <td>-700</td>\n",
       "      <td>1192206547436199936</td>\n",
       "      <td>modelsmunger</td>\n",
       "      <td>Munger Models</td>\n",
       "      <td>NaN</td>\n",
       "      <td>POWER LAW: A relationship between two quantities where a change in one quantity results in a proportional change in the other quality. One quality varies as a power of another.</td>\n",
       "      <td>en</td>\n",
       "      <td>[]</td>\n",
       "      <td>[]</td>\n",
       "      <td>[]</td>\n",
       "      <td>0</td>\n",
       "      <td>0</td>\n",
       "      <td>0</td>\n",
       "      <td>[]</td>\n",
       "      <td>[]</td>\n",
       "      <td>https://twitter.com/ModelsMunger/status/1565453246587473920</td>\n",
       "      <td>False</td>\n",
       "      <td>NaN</td>\n",
       "      <td>0</td>\n",
       "      <td>NaN</td>\n",
       "      <td>NaN</td>\n",
       "      <td>NaN</td>\n",
       "      <td>NaN</td>\n",
       "      <td>NaN</td>\n",
       "      <td>NaN</td>\n",
       "      <td>NaN</td>\n",
       "      <td>[]</td>\n",
       "      <td>NaN</td>\n",
       "      <td>NaN</td>\n",
       "      <td>NaN</td>\n",
       "      <td>NaN</td>\n",
       "    </tr>\n",
       "    <tr>\n",
       "      <th>2</th>\n",
       "      <td>1565453009282146304</td>\n",
       "      <td>1565453009282146304</td>\n",
       "      <td>2022-09-01 14:34:16 PDT</td>\n",
       "      <td>2022-09-01</td>\n",
       "      <td>14:34:16</td>\n",
       "      <td>-700</td>\n",
       "      <td>1183667552288788480</td>\n",
       "      <td>munger_bot</td>\n",
       "      <td>チャーリー　マンガー（Charles Munger）</td>\n",
       "      <td>NaN</td>\n",
       "      <td>感情に走らず、客観的に行動するという考えが廃れることはけっしてありません。</td>\n",
       "      <td>ja</td>\n",
       "      <td>[]</td>\n",
       "      <td>[]</td>\n",
       "      <td>[]</td>\n",
       "      <td>0</td>\n",
       "      <td>0</td>\n",
       "      <td>0</td>\n",
       "      <td>[]</td>\n",
       "      <td>[]</td>\n",
       "      <td>https://twitter.com/munger_bot/status/1565453009282146304</td>\n",
       "      <td>False</td>\n",
       "      <td>NaN</td>\n",
       "      <td>0</td>\n",
       "      <td>NaN</td>\n",
       "      <td>NaN</td>\n",
       "      <td>NaN</td>\n",
       "      <td>NaN</td>\n",
       "      <td>NaN</td>\n",
       "      <td>NaN</td>\n",
       "      <td>NaN</td>\n",
       "      <td>[]</td>\n",
       "      <td>NaN</td>\n",
       "      <td>NaN</td>\n",
       "      <td>NaN</td>\n",
       "      <td>NaN</td>\n",
       "    </tr>\n",
       "    <tr>\n",
       "      <th>3</th>\n",
       "      <td>1565452186372304896</td>\n",
       "      <td>1564985847933374464</td>\n",
       "      <td>2022-09-01 14:31:00 PDT</td>\n",
       "      <td>2022-09-01</td>\n",
       "      <td>14:31:00</td>\n",
       "      <td>-700</td>\n",
       "      <td>56850577</td>\n",
       "      <td>kelseymunger</td>\n",
       "      <td>Kelsey Munger</td>\n",
       "      <td>NaN</td>\n",
       "      <td>@joshslates @Simon_Barrett @Futurhythm @films_chameleon Oh, I'll unbox anything</td>\n",
       "      <td>en</td>\n",
       "      <td>[]</td>\n",
       "      <td>[]</td>\n",
       "      <td>[]</td>\n",
       "      <td>0</td>\n",
       "      <td>0</td>\n",
       "      <td>0</td>\n",
       "      <td>[]</td>\n",
       "      <td>[]</td>\n",
       "      <td>https://twitter.com/KelseyMunger/status/1565452186372304896</td>\n",
       "      <td>False</td>\n",
       "      <td>NaN</td>\n",
       "      <td>0</td>\n",
       "      <td>NaN</td>\n",
       "      <td>NaN</td>\n",
       "      <td>NaN</td>\n",
       "      <td>NaN</td>\n",
       "      <td>NaN</td>\n",
       "      <td>NaN</td>\n",
       "      <td>NaN</td>\n",
       "      <td>[{'screen_name': 'joshslates', 'name': 'Josh Slates', 'id': '76222330'}, {'screen_name': 'Simon_Barrett', 'name': 'Simon Barrett', 'id': '36011308'}, {'screen_name': 'Futurhythm', 'name': 'Dylan Cheung', 'id': '17083331'}, {'screen_name': 'films_chameleon', 'name': 'Chameleon Films', 'id': '1506079783268253697'}]</td>\n",
       "      <td>NaN</td>\n",
       "      <td>NaN</td>\n",
       "      <td>NaN</td>\n",
       "      <td>NaN</td>\n",
       "    </tr>\n",
       "    <tr>\n",
       "      <th>4</th>\n",
       "      <td>1565451498544414720</td>\n",
       "      <td>1565444506807422976</td>\n",
       "      <td>2022-09-01 14:28:16 PDT</td>\n",
       "      <td>2022-09-01</td>\n",
       "      <td>14:28:16</td>\n",
       "      <td>-700</td>\n",
       "      <td>1498277425905553418</td>\n",
       "      <td>zcmunger23</td>\n",
       "      <td>Zach Munger</td>\n",
       "      <td>NaN</td>\n",
       "      <td>@AntiBizle @TheRally @ShamsCharania Lmfao nah he's not</td>\n",
       "      <td>en</td>\n",
       "      <td>[]</td>\n",
       "      <td>[]</td>\n",
       "      <td>[]</td>\n",
       "      <td>0</td>\n",
       "      <td>0</td>\n",
       "      <td>2</td>\n",
       "      <td>[]</td>\n",
       "      <td>[]</td>\n",
       "      <td>https://twitter.com/zcmunger23/status/1565451498544414720</td>\n",
       "      <td>False</td>\n",
       "      <td>NaN</td>\n",
       "      <td>0</td>\n",
       "      <td>NaN</td>\n",
       "      <td>NaN</td>\n",
       "      <td>NaN</td>\n",
       "      <td>NaN</td>\n",
       "      <td>NaN</td>\n",
       "      <td>NaN</td>\n",
       "      <td>NaN</td>\n",
       "      <td>[{'screen_name': 'AntiBizle', 'name': 'He Who Remains 😈™️', 'id': '130400186'}, {'screen_name': 'TheRally', 'name': 'The Rally', 'id': '1479144966794403845'}, {'screen_name': 'ShamsCharania', 'name': 'Shams Charania', 'id': '178580925'}]</td>\n",
       "      <td>NaN</td>\n",
       "      <td>NaN</td>\n",
       "      <td>NaN</td>\n",
       "      <td>NaN</td>\n",
       "    </tr>\n",
       "  </tbody>\n",
       "</table>\n",
       "</div>"
      ],
      "text/plain": [
       "                    id      conversation_id               created_at  \\\n",
       "0  1565453867843739649  1565355888256466946  2022-09-01 14:37:41 PDT   \n",
       "1  1565453246587473920  1565453246587473920  2022-09-01 14:35:13 PDT   \n",
       "2  1565453009282146304  1565453009282146304  2022-09-01 14:34:16 PDT   \n",
       "3  1565452186372304896  1564985847933374464  2022-09-01 14:31:00 PDT   \n",
       "4  1565451498544414720  1565444506807422976  2022-09-01 14:28:16 PDT   \n",
       "\n",
       "         date      time  timezone              user_id      username  \\\n",
       "0  2022-09-01  14:37:41      -700           4229625927  mungermaxime   \n",
       "1  2022-09-01  14:35:13      -700  1192206547436199936  modelsmunger   \n",
       "2  2022-09-01  14:34:16      -700  1183667552288788480    munger_bot   \n",
       "3  2022-09-01  14:31:00      -700             56850577  kelseymunger   \n",
       "4  2022-09-01  14:28:16      -700  1498277425905553418    zcmunger23   \n",
       "\n",
       "                         name place  \\\n",
       "0            Heck off, Commie   NaN   \n",
       "1               Munger Models   NaN   \n",
       "2  チャーリー　マンガー（Charles Munger）   NaN   \n",
       "3               Kelsey Munger   NaN   \n",
       "4                 Zach Munger   NaN   \n",
       "\n",
       "                                                                                                                                                                              tweet  \\\n",
       "0                                                                                                                @Whiskey2ooo @Sebhockey24 @338Canada @JeanMarcLeger1 @2closetocall   \n",
       "1  POWER LAW: A relationship between two quantities where a change in one quantity results in a proportional change in the other quality. One quality varies as a power of another.   \n",
       "2                                                                                                                                             感情に走らず、客観的に行動するという考えが廃れることはけっしてありません。   \n",
       "3                                                                                                   @joshslates @Simon_Barrett @Futurhythm @films_chameleon Oh, I'll unbox anything   \n",
       "4                                                                                                                            @AntiBizle @TheRally @ShamsCharania Lmfao nah he's not   \n",
       "\n",
       "  language mentions urls photos  replies_count  retweets_count  likes_count  \\\n",
       "0      qam       []   []     []              0               0            0   \n",
       "1       en       []   []     []              0               0            0   \n",
       "2       ja       []   []     []              0               0            0   \n",
       "3       en       []   []     []              0               0            0   \n",
       "4       en       []   []     []              0               0            2   \n",
       "\n",
       "  hashtags cashtags  \\\n",
       "0       []       []   \n",
       "1       []       []   \n",
       "2       []       []   \n",
       "3       []       []   \n",
       "4       []       []   \n",
       "\n",
       "                                                          link  retweet  \\\n",
       "0  https://twitter.com/MungerMaxime/status/1565453867843739649    False   \n",
       "1  https://twitter.com/ModelsMunger/status/1565453246587473920    False   \n",
       "2    https://twitter.com/munger_bot/status/1565453009282146304    False   \n",
       "3  https://twitter.com/KelseyMunger/status/1565452186372304896    False   \n",
       "4    https://twitter.com/zcmunger23/status/1565451498544414720    False   \n",
       "\n",
       "  quote_url  video thumbnail  near  geo  source  user_rt_id  user_rt  \\\n",
       "0       NaN      0       NaN   NaN  NaN     NaN         NaN      NaN   \n",
       "1       NaN      0       NaN   NaN  NaN     NaN         NaN      NaN   \n",
       "2       NaN      0       NaN   NaN  NaN     NaN         NaN      NaN   \n",
       "3       NaN      0       NaN   NaN  NaN     NaN         NaN      NaN   \n",
       "4       NaN      0       NaN   NaN  NaN     NaN         NaN      NaN   \n",
       "\n",
       "   retweet_id  \\\n",
       "0         NaN   \n",
       "1         NaN   \n",
       "2         NaN   \n",
       "3         NaN   \n",
       "4         NaN   \n",
       "\n",
       "                                                                                                                                                                                                                                                                                                                                                reply_to  \\\n",
       "0  [{'screen_name': 'Whiskey2ooo', 'name': 'Sensei alexandre prevost', 'id': '176168264'}, {'screen_name': 'Sebhockey24', 'name': 'Sébastien Gauthier', 'id': '1519681215628034054'}, {'screen_name': '338Canada', 'name': 'Philippe J. Fournier', 'id': '3615433823'}, {'screen_name': 'JeanMarcLeger1', 'name': 'Jean-Marc Leger', 'id': '591060507'}]   \n",
       "1                                                                                                                                                                                                                                                                                                                                                     []   \n",
       "2                                                                                                                                                                                                                                                                                                                                                     []   \n",
       "3                             [{'screen_name': 'joshslates', 'name': 'Josh Slates', 'id': '76222330'}, {'screen_name': 'Simon_Barrett', 'name': 'Simon Barrett', 'id': '36011308'}, {'screen_name': 'Futurhythm', 'name': 'Dylan Cheung', 'id': '17083331'}, {'screen_name': 'films_chameleon', 'name': 'Chameleon Films', 'id': '1506079783268253697'}]   \n",
       "4                                                                                                          [{'screen_name': 'AntiBizle', 'name': 'He Who Remains 😈™️', 'id': '130400186'}, {'screen_name': 'TheRally', 'name': 'The Rally', 'id': '1479144966794403845'}, {'screen_name': 'ShamsCharania', 'name': 'Shams Charania', 'id': '178580925'}]   \n",
       "\n",
       "   retweet_date  translate  trans_src  trans_dest  \n",
       "0           NaN        NaN        NaN         NaN  \n",
       "1           NaN        NaN        NaN         NaN  \n",
       "2           NaN        NaN        NaN         NaN  \n",
       "3           NaN        NaN        NaN         NaN  \n",
       "4           NaN        NaN        NaN         NaN  "
      ]
     },
     "execution_count": 74,
     "metadata": {},
     "output_type": "execute_result"
    }
   ],
   "source": [
    "pd.set_option('display.max_columns', None)\n",
    "pd.set_option('display.max_colwidth', None)\n",
    "data.head()"
   ]
  },
  {
   "cell_type": "code",
   "execution_count": 75,
   "id": "b7f9fed6",
   "metadata": {
    "scrolled": true
   },
   "outputs": [
    {
     "data": {
      "text/html": [
       "<div>\n",
       "<style scoped>\n",
       "    .dataframe tbody tr th:only-of-type {\n",
       "        vertical-align: middle;\n",
       "    }\n",
       "\n",
       "    .dataframe tbody tr th {\n",
       "        vertical-align: top;\n",
       "    }\n",
       "\n",
       "    .dataframe thead th {\n",
       "        text-align: right;\n",
       "    }\n",
       "</style>\n",
       "<table border=\"1\" class=\"dataframe\">\n",
       "  <thead>\n",
       "    <tr style=\"text-align: right;\">\n",
       "      <th></th>\n",
       "      <th>Unnamed: 0</th>\n",
       "      <th>url</th>\n",
       "      <th>date</th>\n",
       "      <th>content</th>\n",
       "      <th>renderedContent</th>\n",
       "      <th>id</th>\n",
       "      <th>user</th>\n",
       "      <th>replyCount</th>\n",
       "      <th>retweetCount</th>\n",
       "      <th>likeCount</th>\n",
       "      <th>quoteCount</th>\n",
       "      <th>conversationId</th>\n",
       "      <th>lang</th>\n",
       "      <th>source</th>\n",
       "      <th>sourceUrl</th>\n",
       "      <th>sourceLabel</th>\n",
       "      <th>outlinks</th>\n",
       "      <th>tcooutlinks</th>\n",
       "      <th>media</th>\n",
       "      <th>retweetedTweet</th>\n",
       "      <th>quotedTweet</th>\n",
       "      <th>inReplyToTweetId</th>\n",
       "      <th>inReplyToUser</th>\n",
       "      <th>mentionedUsers</th>\n",
       "      <th>coordinates</th>\n",
       "      <th>place</th>\n",
       "      <th>hashtags</th>\n",
       "      <th>cashtags</th>\n",
       "    </tr>\n",
       "  </thead>\n",
       "  <tbody>\n",
       "    <tr>\n",
       "      <th>0</th>\n",
       "      <td>0</td>\n",
       "      <td>https://twitter.com/andrewearlwebb/status/1570270428668788736</td>\n",
       "      <td>2022-09-15 04:36:59+00:00</td>\n",
       "      <td>@JohnPalminteri The new architectural rendering of Munger Hall is...dramatic.</td>\n",
       "      <td>@JohnPalminteri The new architectural rendering of Munger Hall is...dramatic.</td>\n",
       "      <td>1570270428668788736</td>\n",
       "      <td>{'username': 'andrewearlwebb', 'id': 799078604722225152, 'displayname': 'Andrew Earl Webb', 'description': 'Solder jockey. 6V6 lover. Believer in negative space in music and all else.', 'rawDescription': 'Solder jockey. 6V6 lover. Believer in negative space in music and all else.', 'descriptionUrls': None, 'verified': False, 'created': datetime.datetime(2016, 11, 17, 2, 36, tzinfo=datetime.timezone.utc), 'followersCount': 64, 'friendsCount': 55, 'statusesCount': 1368, 'favouritesCount': 5965, 'listedCount': 0, 'mediaCount': 31, 'location': 'Santa Barbara, CA', 'protected': False, 'linkUrl': None, 'linkTcourl': None, 'profileImageUrl': 'https://pbs.twimg.com/profile_images/1505727407361200128/OJ37uEbd_normal.jpg', 'profileBannerUrl': 'https://pbs.twimg.com/profile_banners/799078604722225152/1645937322', 'label': None}</td>\n",
       "      <td>0</td>\n",
       "      <td>0</td>\n",
       "      <td>0</td>\n",
       "      <td>0</td>\n",
       "      <td>1570242147554820099</td>\n",
       "      <td>en</td>\n",
       "      <td>&lt;a href=\"https://mobile.twitter.com\" rel=\"nofollow\"&gt;Twitter Web App&lt;/a&gt;</td>\n",
       "      <td>https://mobile.twitter.com</td>\n",
       "      <td>Twitter Web App</td>\n",
       "      <td>NaN</td>\n",
       "      <td>NaN</td>\n",
       "      <td>NaN</td>\n",
       "      <td>NaN</td>\n",
       "      <td>NaN</td>\n",
       "      <td>1.570242e+18</td>\n",
       "      <td>{'username': 'JohnPalminteri', 'id': 1259979349, 'displayname': 'John Palminteri', 'description': None, 'rawDescription': None, 'descriptionUrls': None, 'verified': None, 'created': None, 'followersCount': None, 'friendsCount': None, 'statusesCount': None, 'favouritesCount': None, 'listedCount': None, 'mediaCount': None, 'location': None, 'protected': None, 'linkUrl': None, 'linkTcourl': None, 'profileImageUrl': None, 'profileBannerUrl': None, 'label': None}</td>\n",
       "      <td>[{'username': 'JohnPalminteri', 'id': 1259979349, 'displayname': 'John Palminteri', 'description': None, 'rawDescription': None, 'descriptionUrls': None, 'verified': None, 'created': None, 'followersCount': None, 'friendsCount': None, 'statusesCount': None, 'favouritesCount': None, 'listedCount': None, 'mediaCount': None, 'location': None, 'protected': None, 'linkUrl': None, 'linkTcourl': None, 'profileImageUrl': None, 'profileBannerUrl': None, 'label': None}]</td>\n",
       "      <td>NaN</td>\n",
       "      <td>NaN</td>\n",
       "      <td>NaN</td>\n",
       "      <td>NaN</td>\n",
       "    </tr>\n",
       "    <tr>\n",
       "      <th>1</th>\n",
       "      <td>1</td>\n",
       "      <td>https://twitter.com/RickySKron/status/1568760137850191872</td>\n",
       "      <td>2022-09-11 00:35:37+00:00</td>\n",
       "      <td>@Austen I’m waiting for the 6 hour Netflix doc on Munger Hall.</td>\n",
       "      <td>@Austen I’m waiting for the 6 hour Netflix doc on Munger Hall.</td>\n",
       "      <td>1568760137850191872</td>\n",
       "      <td>{'username': 'RickySKron', 'id': 872869810002178048, 'displayname': 'Rick Kronbyrd', 'description': 'Six wins away from world’s first GOTE NOG™️ Grammy. Oscar. Tony. Emmy. Nobel. Olympic Gold.', 'rawDescription': 'Six wins away from world’s first GOTE NOG™️ Grammy. Oscar. Tony. Emmy. Nobel. Olympic Gold.', 'descriptionUrls': None, 'verified': False, 'created': datetime.datetime(2017, 6, 8, 17, 35, 54, tzinfo=datetime.timezone.utc), 'followersCount': 682, 'friendsCount': 1552, 'statusesCount': 27676, 'favouritesCount': 79724, 'listedCount': 11, 'mediaCount': 1460, 'location': 'New Jersey, USA', 'protected': False, 'linkUrl': None, 'linkTcourl': None, 'profileImageUrl': 'https://pbs.twimg.com/profile_images/872873334882652168/nRLHUGpB_normal.jpg', 'profileBannerUrl': 'https://pbs.twimg.com/profile_banners/872869810002178048/1543987143', 'label': None}</td>\n",
       "      <td>1</td>\n",
       "      <td>0</td>\n",
       "      <td>2</td>\n",
       "      <td>0</td>\n",
       "      <td>1568606879609417735</td>\n",
       "      <td>en</td>\n",
       "      <td>&lt;a href=\"http://twitter.com/download/iphone\" rel=\"nofollow\"&gt;Twitter for iPhone&lt;/a&gt;</td>\n",
       "      <td>http://twitter.com/download/iphone</td>\n",
       "      <td>Twitter for iPhone</td>\n",
       "      <td>NaN</td>\n",
       "      <td>NaN</td>\n",
       "      <td>NaN</td>\n",
       "      <td>NaN</td>\n",
       "      <td>NaN</td>\n",
       "      <td>1.568607e+18</td>\n",
       "      <td>{'username': 'Austen', 'id': 221838349, 'displayname': 'Austen Allred', 'description': None, 'rawDescription': None, 'descriptionUrls': None, 'verified': None, 'created': None, 'followersCount': None, 'friendsCount': None, 'statusesCount': None, 'favouritesCount': None, 'listedCount': None, 'mediaCount': None, 'location': None, 'protected': None, 'linkUrl': None, 'linkTcourl': None, 'profileImageUrl': None, 'profileBannerUrl': None, 'label': None}</td>\n",
       "      <td>[{'username': 'Austen', 'id': 221838349, 'displayname': 'Austen Allred', 'description': None, 'rawDescription': None, 'descriptionUrls': None, 'verified': None, 'created': None, 'followersCount': None, 'friendsCount': None, 'statusesCount': None, 'favouritesCount': None, 'listedCount': None, 'mediaCount': None, 'location': None, 'protected': None, 'linkUrl': None, 'linkTcourl': None, 'profileImageUrl': None, 'profileBannerUrl': None, 'label': None}]</td>\n",
       "      <td>NaN</td>\n",
       "      <td>NaN</td>\n",
       "      <td>NaN</td>\n",
       "      <td>NaN</td>\n",
       "    </tr>\n",
       "    <tr>\n",
       "      <th>2</th>\n",
       "      <td>2</td>\n",
       "      <td>https://twitter.com/pizzathizzle/status/1568331813634068483</td>\n",
       "      <td>2022-09-09 20:13:37+00:00</td>\n",
       "      <td>@VoughtIntl It’s giving UCSB Munger hall vibes</td>\n",
       "      <td>@VoughtIntl It’s giving UCSB Munger hall vibes</td>\n",
       "      <td>1568331813634068483</td>\n",
       "      <td>{'username': 'pizzathizzle', 'id': 1092689100975423488, 'displayname': 'PizzaThizzle', 'description': 'recently entered my flop era 🍋', 'rawDescription': 'recently entered my flop era 🍋', 'descriptionUrls': None, 'verified': False, 'created': datetime.datetime(2019, 2, 5, 7, 39, 17, tzinfo=datetime.timezone.utc), 'followersCount': 81, 'friendsCount': 185, 'statusesCount': 2911, 'favouritesCount': 7642, 'listedCount': 2, 'mediaCount': 365, 'location': '', 'protected': False, 'linkUrl': None, 'linkTcourl': None, 'profileImageUrl': 'https://pbs.twimg.com/profile_images/1494906038268534784/iFamBCKK_normal.jpg', 'profileBannerUrl': 'https://pbs.twimg.com/profile_banners/1092689100975423488/1644810991', 'label': None}</td>\n",
       "      <td>0</td>\n",
       "      <td>0</td>\n",
       "      <td>0</td>\n",
       "      <td>0</td>\n",
       "      <td>1568255253618868225</td>\n",
       "      <td>en</td>\n",
       "      <td>&lt;a href=\"http://twitter.com/download/iphone\" rel=\"nofollow\"&gt;Twitter for iPhone&lt;/a&gt;</td>\n",
       "      <td>http://twitter.com/download/iphone</td>\n",
       "      <td>Twitter for iPhone</td>\n",
       "      <td>NaN</td>\n",
       "      <td>NaN</td>\n",
       "      <td>NaN</td>\n",
       "      <td>NaN</td>\n",
       "      <td>NaN</td>\n",
       "      <td>1.568255e+18</td>\n",
       "      <td>{'username': 'VoughtIntl', 'id': 1229547775836049408, 'displayname': 'Vought International', 'description': None, 'rawDescription': None, 'descriptionUrls': None, 'verified': None, 'created': None, 'followersCount': None, 'friendsCount': None, 'statusesCount': None, 'favouritesCount': None, 'listedCount': None, 'mediaCount': None, 'location': None, 'protected': None, 'linkUrl': None, 'linkTcourl': None, 'profileImageUrl': None, 'profileBannerUrl': None, 'label': None}</td>\n",
       "      <td>[{'username': 'VoughtIntl', 'id': 1229547775836049408, 'displayname': 'Vought International', 'description': None, 'rawDescription': None, 'descriptionUrls': None, 'verified': None, 'created': None, 'followersCount': None, 'friendsCount': None, 'statusesCount': None, 'favouritesCount': None, 'listedCount': None, 'mediaCount': None, 'location': None, 'protected': None, 'linkUrl': None, 'linkTcourl': None, 'profileImageUrl': None, 'profileBannerUrl': None, 'label': None}]</td>\n",
       "      <td>NaN</td>\n",
       "      <td>NaN</td>\n",
       "      <td>NaN</td>\n",
       "      <td>NaN</td>\n",
       "    </tr>\n",
       "    <tr>\n",
       "      <th>3</th>\n",
       "      <td>3</td>\n",
       "      <td>https://twitter.com/jstpwalsh/status/1567565612746162182</td>\n",
       "      <td>2022-09-07 17:29:00+00:00</td>\n",
       "      <td>The 4000 (!) hotel suites in this 5-star resort apparently have as many windows as Munger Hall https://t.co/GrDaWXOqKC</td>\n",
       "      <td>The 4000 (!) hotel suites in this 5-star resort apparently have as many windows as Munger Hall twitter.com/nspdos/status/…</td>\n",
       "      <td>1567565612746162182</td>\n",
       "      <td>{'username': 'jstpwalsh', 'id': 2163424327, 'displayname': 'Justin Walsh', 'description': 'Space archaeology (for real): @ISSarchaeology | Terrestrial archaeology: Cástulo, Spain | @ChapmanU | @BrickMoonSpace space habitat consulting | He/him', 'rawDescription': 'Space archaeology (for real): @ISSarchaeology | Terrestrial archaeology: Cástulo, Spain | @ChapmanU | @BrickMoonSpace space habitat consulting | He/him', 'descriptionUrls': None, 'verified': False, 'created': datetime.datetime(2013, 10, 29, 19, 33, 36, tzinfo=datetime.timezone.utc), 'followersCount': 1846, 'friendsCount': 1041, 'statusesCount': 27833, 'favouritesCount': 49369, 'listedCount': 59, 'mediaCount': 3058, 'location': 'Tongva land (Los Angeles, CA)', 'protected': False, 'linkUrl': 'https://hcommons.org/members/jstpwalsh/', 'linkTcourl': 'https://t.co/POCmxlpzsF', 'profileImageUrl': 'https://pbs.twimg.com/profile_images/1531094959532781570/zoPZ8P79_normal.jpg', 'profileBannerUrl': 'https://pbs.twimg.com/profile_banners/2163424327/1606506045', 'label': None}</td>\n",
       "      <td>1</td>\n",
       "      <td>0</td>\n",
       "      <td>0</td>\n",
       "      <td>0</td>\n",
       "      <td>1567565612746162182</td>\n",
       "      <td>en</td>\n",
       "      <td>&lt;a href=\"https://about.twitter.com/products/tweetdeck\" rel=\"nofollow\"&gt;TweetDeck&lt;/a&gt;</td>\n",
       "      <td>https://about.twitter.com/products/tweetdeck</td>\n",
       "      <td>TweetDeck</td>\n",
       "      <td>['https://twitter.com/nspdos/status/1567560044069400576']</td>\n",
       "      <td>['https://t.co/GrDaWXOqKC']</td>\n",
       "      <td>NaN</td>\n",
       "      <td>NaN</td>\n",
       "      <td>{'url': 'https://twitter.com/nspdos/status/1567560044069400576', 'date': datetime.datetime(2022, 9, 7, 17, 6, 53, tzinfo=datetime.timezone.utc), 'content': 'https://t.co/HsiniT82tg', 'renderedContent': 'arabianbusiness.com/industries/tra…', 'id': 1567560044069400576, 'user': {'username': 'nspdos', 'id': 1285317826350374914, 'displayname': 'New School Policy and Design for Outer Space', 'description': 'New School Policy and Design for Outer Space explores the dynamics and distribution of egalitarian models of governance and design in space exploration.', 'rawDescription': 'New School Policy and Design for Outer Space explores the dynamics and distribution of egalitarian models of governance and design in space exploration.', 'descriptionUrls': None, 'verified': False, 'created': datetime.datetime(2020, 7, 20, 20, 57, 11, tzinfo=datetime.timezone.utc), 'followersCount': 526, 'friendsCount': 950, 'statusesCount': 768, 'favouritesCount': 2337, 'listedCount': 17, 'mediaCount': 90, 'location': '', 'protected': False, 'linkUrl': 'https://linktr.ee/nspdos', 'linkTcourl': 'https://t.co/vEEmUwI1Yt', 'profileImageUrl': 'https://pbs.twimg.com/profile_images/1285319192137302016/oBo8swXS_normal.jpg', 'profileBannerUrl': 'https://pbs.twimg.com/profile_banners/1285317826350374914/1597074684', 'label': None}, 'replyCount': 0, 'retweetCount': 2, 'likeCount': 1, 'quoteCount': 2, 'conversationId': 1567560044069400576, 'lang': 'zxx', 'source': '&lt;a href=\"http://twitter.com/download/iphone\" rel=\"nofollow\"&gt;Twitter for iPhone&lt;/a&gt;', 'sourceUrl': 'http://twitter.com/download/iphone', 'sourceLabel': 'Twitter for iPhone', 'outlinks': ['https://www.arabianbusiness.com/industries/travel-hospitality/dubais-new-5-billion-moon-proposed-as-uae-shoots-for-the-stars'], 'tcooutlinks': ['https://t.co/HsiniT82tg'], 'media': None, 'retweetedTweet': None, 'quotedTweet': None, 'inReplyToTweetId': None, 'inReplyToUser': None, 'mentionedUsers': None, 'coordinates': None, 'place': None, 'hashtags': None, 'cashtags': None}</td>\n",
       "      <td>NaN</td>\n",
       "      <td>NaN</td>\n",
       "      <td>NaN</td>\n",
       "      <td>NaN</td>\n",
       "      <td>NaN</td>\n",
       "      <td>NaN</td>\n",
       "      <td>NaN</td>\n",
       "    </tr>\n",
       "    <tr>\n",
       "      <th>4</th>\n",
       "      <td>4</td>\n",
       "      <td>https://twitter.com/drervra/status/1564771659394924544</td>\n",
       "      <td>2022-08-31 00:26:50+00:00</td>\n",
       "      <td>Smoke sesh at the munger hall mock up</td>\n",
       "      <td>Smoke sesh at the munger hall mock up</td>\n",
       "      <td>1564771659394924544</td>\n",
       "      <td>{'username': 'drervra', 'id': 1239484541158350850, 'displayname': 'Andre', 'description': 'ΘΝΚ || UCSB 🌊', 'rawDescription': 'ΘΝΚ || UCSB 🌊', 'descriptionUrls': None, 'verified': False, 'created': datetime.datetime(2020, 3, 16, 9, 32, 28, tzinfo=datetime.timezone.utc), 'followersCount': 173, 'friendsCount': 221, 'statusesCount': 725, 'favouritesCount': 11721, 'listedCount': 0, 'mediaCount': 17, 'location': 'aqui nomas ', 'protected': False, 'linkUrl': 'https://whybluelivesmatter.com', 'linkTcourl': 'https://t.co/s8yVMlvNTL', 'profileImageUrl': 'https://pbs.twimg.com/profile_images/1447013709017083904/ceuYCGaO_normal.jpg', 'profileBannerUrl': 'https://pbs.twimg.com/profile_banners/1239484541158350850/1624029920', 'label': None}</td>\n",
       "      <td>0</td>\n",
       "      <td>0</td>\n",
       "      <td>2</td>\n",
       "      <td>0</td>\n",
       "      <td>1564771659394924544</td>\n",
       "      <td>en</td>\n",
       "      <td>&lt;a href=\"http://twitter.com/download/iphone\" rel=\"nofollow\"&gt;Twitter for iPhone&lt;/a&gt;</td>\n",
       "      <td>http://twitter.com/download/iphone</td>\n",
       "      <td>Twitter for iPhone</td>\n",
       "      <td>NaN</td>\n",
       "      <td>NaN</td>\n",
       "      <td>NaN</td>\n",
       "      <td>NaN</td>\n",
       "      <td>NaN</td>\n",
       "      <td>NaN</td>\n",
       "      <td>NaN</td>\n",
       "      <td>NaN</td>\n",
       "      <td>NaN</td>\n",
       "      <td>NaN</td>\n",
       "      <td>NaN</td>\n",
       "      <td>NaN</td>\n",
       "    </tr>\n",
       "  </tbody>\n",
       "</table>\n",
       "</div>"
      ],
      "text/plain": [
       "   Unnamed: 0                                                            url  \\\n",
       "0           0  https://twitter.com/andrewearlwebb/status/1570270428668788736   \n",
       "1           1      https://twitter.com/RickySKron/status/1568760137850191872   \n",
       "2           2    https://twitter.com/pizzathizzle/status/1568331813634068483   \n",
       "3           3       https://twitter.com/jstpwalsh/status/1567565612746162182   \n",
       "4           4         https://twitter.com/drervra/status/1564771659394924544   \n",
       "\n",
       "                        date  \\\n",
       "0  2022-09-15 04:36:59+00:00   \n",
       "1  2022-09-11 00:35:37+00:00   \n",
       "2  2022-09-09 20:13:37+00:00   \n",
       "3  2022-09-07 17:29:00+00:00   \n",
       "4  2022-08-31 00:26:50+00:00   \n",
       "\n",
       "                                                                                                                  content  \\\n",
       "0                                           @JohnPalminteri The new architectural rendering of Munger Hall is...dramatic.   \n",
       "1                                                          @Austen I’m waiting for the 6 hour Netflix doc on Munger Hall.   \n",
       "2                                                                          @VoughtIntl It’s giving UCSB Munger hall vibes   \n",
       "3  The 4000 (!) hotel suites in this 5-star resort apparently have as many windows as Munger Hall https://t.co/GrDaWXOqKC   \n",
       "4                                                                                   Smoke sesh at the munger hall mock up   \n",
       "\n",
       "                                                                                                              renderedContent  \\\n",
       "0                                               @JohnPalminteri The new architectural rendering of Munger Hall is...dramatic.   \n",
       "1                                                              @Austen I’m waiting for the 6 hour Netflix doc on Munger Hall.   \n",
       "2                                                                              @VoughtIntl It’s giving UCSB Munger hall vibes   \n",
       "3  The 4000 (!) hotel suites in this 5-star resort apparently have as many windows as Munger Hall twitter.com/nspdos/status/…   \n",
       "4                                                                                       Smoke sesh at the munger hall mock up   \n",
       "\n",
       "                    id  \\\n",
       "0  1570270428668788736   \n",
       "1  1568760137850191872   \n",
       "2  1568331813634068483   \n",
       "3  1567565612746162182   \n",
       "4  1564771659394924544   \n",
       "\n",
       "                                                                                                                                                                                                                                                                                                                                                                                                                                                                                                                                                                                                                                                                                                                                                                                                                                                                                                                                                                                                                                                                              user  \\\n",
       "0                                                                                                                                                                                                                     {'username': 'andrewearlwebb', 'id': 799078604722225152, 'displayname': 'Andrew Earl Webb', 'description': 'Solder jockey. 6V6 lover. Believer in negative space in music and all else.', 'rawDescription': 'Solder jockey. 6V6 lover. Believer in negative space in music and all else.', 'descriptionUrls': None, 'verified': False, 'created': datetime.datetime(2016, 11, 17, 2, 36, tzinfo=datetime.timezone.utc), 'followersCount': 64, 'friendsCount': 55, 'statusesCount': 1368, 'favouritesCount': 5965, 'listedCount': 0, 'mediaCount': 31, 'location': 'Santa Barbara, CA', 'protected': False, 'linkUrl': None, 'linkTcourl': None, 'profileImageUrl': 'https://pbs.twimg.com/profile_images/1505727407361200128/OJ37uEbd_normal.jpg', 'profileBannerUrl': 'https://pbs.twimg.com/profile_banners/799078604722225152/1645937322', 'label': None}   \n",
       "1                                                                                                                                                                                    {'username': 'RickySKron', 'id': 872869810002178048, 'displayname': 'Rick Kronbyrd', 'description': 'Six wins away from world’s first GOTE NOG™️ Grammy. Oscar. Tony. Emmy. Nobel. Olympic Gold.', 'rawDescription': 'Six wins away from world’s first GOTE NOG™️ Grammy. Oscar. Tony. Emmy. Nobel. Olympic Gold.', 'descriptionUrls': None, 'verified': False, 'created': datetime.datetime(2017, 6, 8, 17, 35, 54, tzinfo=datetime.timezone.utc), 'followersCount': 682, 'friendsCount': 1552, 'statusesCount': 27676, 'favouritesCount': 79724, 'listedCount': 11, 'mediaCount': 1460, 'location': 'New Jersey, USA', 'protected': False, 'linkUrl': None, 'linkTcourl': None, 'profileImageUrl': 'https://pbs.twimg.com/profile_images/872873334882652168/nRLHUGpB_normal.jpg', 'profileBannerUrl': 'https://pbs.twimg.com/profile_banners/872869810002178048/1543987143', 'label': None}   \n",
       "2                                                                                                                                                                                                                                                                                                                                {'username': 'pizzathizzle', 'id': 1092689100975423488, 'displayname': 'PizzaThizzle', 'description': 'recently entered my flop era 🍋', 'rawDescription': 'recently entered my flop era 🍋', 'descriptionUrls': None, 'verified': False, 'created': datetime.datetime(2019, 2, 5, 7, 39, 17, tzinfo=datetime.timezone.utc), 'followersCount': 81, 'friendsCount': 185, 'statusesCount': 2911, 'favouritesCount': 7642, 'listedCount': 2, 'mediaCount': 365, 'location': '', 'protected': False, 'linkUrl': None, 'linkTcourl': None, 'profileImageUrl': 'https://pbs.twimg.com/profile_images/1494906038268534784/iFamBCKK_normal.jpg', 'profileBannerUrl': 'https://pbs.twimg.com/profile_banners/1092689100975423488/1644810991', 'label': None}   \n",
       "3  {'username': 'jstpwalsh', 'id': 2163424327, 'displayname': 'Justin Walsh', 'description': 'Space archaeology (for real): @ISSarchaeology | Terrestrial archaeology: Cástulo, Spain | @ChapmanU | @BrickMoonSpace space habitat consulting | He/him', 'rawDescription': 'Space archaeology (for real): @ISSarchaeology | Terrestrial archaeology: Cástulo, Spain | @ChapmanU | @BrickMoonSpace space habitat consulting | He/him', 'descriptionUrls': None, 'verified': False, 'created': datetime.datetime(2013, 10, 29, 19, 33, 36, tzinfo=datetime.timezone.utc), 'followersCount': 1846, 'friendsCount': 1041, 'statusesCount': 27833, 'favouritesCount': 49369, 'listedCount': 59, 'mediaCount': 3058, 'location': 'Tongva land (Los Angeles, CA)', 'protected': False, 'linkUrl': 'https://hcommons.org/members/jstpwalsh/', 'linkTcourl': 'https://t.co/POCmxlpzsF', 'profileImageUrl': 'https://pbs.twimg.com/profile_images/1531094959532781570/zoPZ8P79_normal.jpg', 'profileBannerUrl': 'https://pbs.twimg.com/profile_banners/2163424327/1606506045', 'label': None}   \n",
       "4                                                                                                                                                                                                                                                                                                                 {'username': 'drervra', 'id': 1239484541158350850, 'displayname': 'Andre', 'description': 'ΘΝΚ || UCSB 🌊', 'rawDescription': 'ΘΝΚ || UCSB 🌊', 'descriptionUrls': None, 'verified': False, 'created': datetime.datetime(2020, 3, 16, 9, 32, 28, tzinfo=datetime.timezone.utc), 'followersCount': 173, 'friendsCount': 221, 'statusesCount': 725, 'favouritesCount': 11721, 'listedCount': 0, 'mediaCount': 17, 'location': 'aqui nomas ', 'protected': False, 'linkUrl': 'https://whybluelivesmatter.com', 'linkTcourl': 'https://t.co/s8yVMlvNTL', 'profileImageUrl': 'https://pbs.twimg.com/profile_images/1447013709017083904/ceuYCGaO_normal.jpg', 'profileBannerUrl': 'https://pbs.twimg.com/profile_banners/1239484541158350850/1624029920', 'label': None}   \n",
       "\n",
       "   replyCount  retweetCount  likeCount  quoteCount       conversationId lang  \\\n",
       "0           0             0          0           0  1570242147554820099   en   \n",
       "1           1             0          2           0  1568606879609417735   en   \n",
       "2           0             0          0           0  1568255253618868225   en   \n",
       "3           1             0          0           0  1567565612746162182   en   \n",
       "4           0             0          2           0  1564771659394924544   en   \n",
       "\n",
       "                                                                                source  \\\n",
       "0              <a href=\"https://mobile.twitter.com\" rel=\"nofollow\">Twitter Web App</a>   \n",
       "1   <a href=\"http://twitter.com/download/iphone\" rel=\"nofollow\">Twitter for iPhone</a>   \n",
       "2   <a href=\"http://twitter.com/download/iphone\" rel=\"nofollow\">Twitter for iPhone</a>   \n",
       "3  <a href=\"https://about.twitter.com/products/tweetdeck\" rel=\"nofollow\">TweetDeck</a>   \n",
       "4   <a href=\"http://twitter.com/download/iphone\" rel=\"nofollow\">Twitter for iPhone</a>   \n",
       "\n",
       "                                      sourceUrl         sourceLabel  \\\n",
       "0                    https://mobile.twitter.com     Twitter Web App   \n",
       "1            http://twitter.com/download/iphone  Twitter for iPhone   \n",
       "2            http://twitter.com/download/iphone  Twitter for iPhone   \n",
       "3  https://about.twitter.com/products/tweetdeck           TweetDeck   \n",
       "4            http://twitter.com/download/iphone  Twitter for iPhone   \n",
       "\n",
       "                                                    outlinks  \\\n",
       "0                                                        NaN   \n",
       "1                                                        NaN   \n",
       "2                                                        NaN   \n",
       "3  ['https://twitter.com/nspdos/status/1567560044069400576']   \n",
       "4                                                        NaN   \n",
       "\n",
       "                   tcooutlinks media  retweetedTweet  \\\n",
       "0                          NaN   NaN             NaN   \n",
       "1                          NaN   NaN             NaN   \n",
       "2                          NaN   NaN             NaN   \n",
       "3  ['https://t.co/GrDaWXOqKC']   NaN             NaN   \n",
       "4                          NaN   NaN             NaN   \n",
       "\n",
       "                                                                                                                                                                                                                                                                                                                                                                                                                                                                                                                                                                                                                                                                                                                                                                                                                                                                                                                                                                                                                                                                                                                                                                                                                                                                                                                                                                                                                                                                                                                                                                                                                                                                                                                                                                                                                                                                                                                                                                                                                                                                                   quotedTweet  \\\n",
       "0                                                                                                                                                                                                                                                                                                                                                                                                                                                                                                                                                                                                                                                                                                                                                                                                                                                                                                                                                                                                                                                                                                                                                                                                                                                                                                                                                                                                                                                                                                                                                                                                                                                                                                                                                                                                                                                                                                                                                                                                                                                                                          NaN   \n",
       "1                                                                                                                                                                                                                                                                                                                                                                                                                                                                                                                                                                                                                                                                                                                                                                                                                                                                                                                                                                                                                                                                                                                                                                                                                                                                                                                                                                                                                                                                                                                                                                                                                                                                                                                                                                                                                                                                                                                                                                                                                                                                                          NaN   \n",
       "2                                                                                                                                                                                                                                                                                                                                                                                                                                                                                                                                                                                                                                                                                                                                                                                                                                                                                                                                                                                                                                                                                                                                                                                                                                                                                                                                                                                                                                                                                                                                                                                                                                                                                                                                                                                                                                                                                                                                                                                                                                                                                          NaN   \n",
       "3  {'url': 'https://twitter.com/nspdos/status/1567560044069400576', 'date': datetime.datetime(2022, 9, 7, 17, 6, 53, tzinfo=datetime.timezone.utc), 'content': 'https://t.co/HsiniT82tg', 'renderedContent': 'arabianbusiness.com/industries/tra…', 'id': 1567560044069400576, 'user': {'username': 'nspdos', 'id': 1285317826350374914, 'displayname': 'New School Policy and Design for Outer Space', 'description': 'New School Policy and Design for Outer Space explores the dynamics and distribution of egalitarian models of governance and design in space exploration.', 'rawDescription': 'New School Policy and Design for Outer Space explores the dynamics and distribution of egalitarian models of governance and design in space exploration.', 'descriptionUrls': None, 'verified': False, 'created': datetime.datetime(2020, 7, 20, 20, 57, 11, tzinfo=datetime.timezone.utc), 'followersCount': 526, 'friendsCount': 950, 'statusesCount': 768, 'favouritesCount': 2337, 'listedCount': 17, 'mediaCount': 90, 'location': '', 'protected': False, 'linkUrl': 'https://linktr.ee/nspdos', 'linkTcourl': 'https://t.co/vEEmUwI1Yt', 'profileImageUrl': 'https://pbs.twimg.com/profile_images/1285319192137302016/oBo8swXS_normal.jpg', 'profileBannerUrl': 'https://pbs.twimg.com/profile_banners/1285317826350374914/1597074684', 'label': None}, 'replyCount': 0, 'retweetCount': 2, 'likeCount': 1, 'quoteCount': 2, 'conversationId': 1567560044069400576, 'lang': 'zxx', 'source': '<a href=\"http://twitter.com/download/iphone\" rel=\"nofollow\">Twitter for iPhone</a>', 'sourceUrl': 'http://twitter.com/download/iphone', 'sourceLabel': 'Twitter for iPhone', 'outlinks': ['https://www.arabianbusiness.com/industries/travel-hospitality/dubais-new-5-billion-moon-proposed-as-uae-shoots-for-the-stars'], 'tcooutlinks': ['https://t.co/HsiniT82tg'], 'media': None, 'retweetedTweet': None, 'quotedTweet': None, 'inReplyToTweetId': None, 'inReplyToUser': None, 'mentionedUsers': None, 'coordinates': None, 'place': None, 'hashtags': None, 'cashtags': None}   \n",
       "4                                                                                                                                                                                                                                                                                                                                                                                                                                                                                                                                                                                                                                                                                                                                                                                                                                                                                                                                                                                                                                                                                                                                                                                                                                                                                                                                                                                                                                                                                                                                                                                                                                                                                                                                                                                                                                                                                                                                                                                                                                                                                          NaN   \n",
       "\n",
       "   inReplyToTweetId  \\\n",
       "0      1.570242e+18   \n",
       "1      1.568607e+18   \n",
       "2      1.568255e+18   \n",
       "3               NaN   \n",
       "4               NaN   \n",
       "\n",
       "                                                                                                                                                                                                                                                                                                                                                                                                                                                                              inReplyToUser  \\\n",
       "0            {'username': 'JohnPalminteri', 'id': 1259979349, 'displayname': 'John Palminteri', 'description': None, 'rawDescription': None, 'descriptionUrls': None, 'verified': None, 'created': None, 'followersCount': None, 'friendsCount': None, 'statusesCount': None, 'favouritesCount': None, 'listedCount': None, 'mediaCount': None, 'location': None, 'protected': None, 'linkUrl': None, 'linkTcourl': None, 'profileImageUrl': None, 'profileBannerUrl': None, 'label': None}   \n",
       "1                       {'username': 'Austen', 'id': 221838349, 'displayname': 'Austen Allred', 'description': None, 'rawDescription': None, 'descriptionUrls': None, 'verified': None, 'created': None, 'followersCount': None, 'friendsCount': None, 'statusesCount': None, 'favouritesCount': None, 'listedCount': None, 'mediaCount': None, 'location': None, 'protected': None, 'linkUrl': None, 'linkTcourl': None, 'profileImageUrl': None, 'profileBannerUrl': None, 'label': None}   \n",
       "2  {'username': 'VoughtIntl', 'id': 1229547775836049408, 'displayname': 'Vought International', 'description': None, 'rawDescription': None, 'descriptionUrls': None, 'verified': None, 'created': None, 'followersCount': None, 'friendsCount': None, 'statusesCount': None, 'favouritesCount': None, 'listedCount': None, 'mediaCount': None, 'location': None, 'protected': None, 'linkUrl': None, 'linkTcourl': None, 'profileImageUrl': None, 'profileBannerUrl': None, 'label': None}   \n",
       "3                                                                                                                                                                                                                                                                                                                                                                                                                                                                                       NaN   \n",
       "4                                                                                                                                                                                                                                                                                                                                                                                                                                                                                       NaN   \n",
       "\n",
       "                                                                                                                                                                                                                                                                                                                                                                                                                                                                               mentionedUsers  \\\n",
       "0            [{'username': 'JohnPalminteri', 'id': 1259979349, 'displayname': 'John Palminteri', 'description': None, 'rawDescription': None, 'descriptionUrls': None, 'verified': None, 'created': None, 'followersCount': None, 'friendsCount': None, 'statusesCount': None, 'favouritesCount': None, 'listedCount': None, 'mediaCount': None, 'location': None, 'protected': None, 'linkUrl': None, 'linkTcourl': None, 'profileImageUrl': None, 'profileBannerUrl': None, 'label': None}]   \n",
       "1                       [{'username': 'Austen', 'id': 221838349, 'displayname': 'Austen Allred', 'description': None, 'rawDescription': None, 'descriptionUrls': None, 'verified': None, 'created': None, 'followersCount': None, 'friendsCount': None, 'statusesCount': None, 'favouritesCount': None, 'listedCount': None, 'mediaCount': None, 'location': None, 'protected': None, 'linkUrl': None, 'linkTcourl': None, 'profileImageUrl': None, 'profileBannerUrl': None, 'label': None}]   \n",
       "2  [{'username': 'VoughtIntl', 'id': 1229547775836049408, 'displayname': 'Vought International', 'description': None, 'rawDescription': None, 'descriptionUrls': None, 'verified': None, 'created': None, 'followersCount': None, 'friendsCount': None, 'statusesCount': None, 'favouritesCount': None, 'listedCount': None, 'mediaCount': None, 'location': None, 'protected': None, 'linkUrl': None, 'linkTcourl': None, 'profileImageUrl': None, 'profileBannerUrl': None, 'label': None}]   \n",
       "3                                                                                                                                                                                                                                                                                                                                                                                                                                                                                         NaN   \n",
       "4                                                                                                                                                                                                                                                                                                                                                                                                                                                                                         NaN   \n",
       "\n",
       "  coordinates place hashtags cashtags  \n",
       "0         NaN   NaN      NaN      NaN  \n",
       "1         NaN   NaN      NaN      NaN  \n",
       "2         NaN   NaN      NaN      NaN  \n",
       "3         NaN   NaN      NaN      NaN  \n",
       "4         NaN   NaN      NaN      NaN  "
      ]
     },
     "execution_count": 75,
     "metadata": {},
     "output_type": "execute_result"
    }
   ],
   "source": [
    "data2.head()"
   ]
  },
  {
   "cell_type": "code",
   "execution_count": 76,
   "id": "479108b8",
   "metadata": {},
   "outputs": [],
   "source": [
    "# clean tweets\n",
    "import nltk                                # Python library for NLP\n",
    "from nltk.corpus import twitter_samples    # sample Twitter dataset from NLTK\n",
    "import matplotlib.pyplot as plt            # library for visualization\n",
    "import random                              # pseudo-random number generator"
   ]
  },
  {
   "cell_type": "code",
   "execution_count": 99,
   "id": "ddf4b12d",
   "metadata": {
    "scrolled": false
   },
   "outputs": [
    {
     "name": "stderr",
     "output_type": "stream",
     "text": [
      "[nltk_data] Downloading package stopwords to\n",
      "[nltk_data]     /Users/stellajia/nltk_data...\n",
      "[nltk_data]   Package stopwords is already up-to-date!\n"
     ]
    },
    {
     "data": {
      "text/plain": [
       "True"
      ]
     },
     "execution_count": 99,
     "metadata": {},
     "output_type": "execute_result"
    }
   ],
   "source": [
    "nltk.download('stopwords')"
   ]
  },
  {
   "cell_type": "code",
   "execution_count": 9,
   "id": "ddf164dc",
   "metadata": {},
   "outputs": [],
   "source": [
    "import re                                  # library for regular expression operations\n",
    "import string                              # for string operations\n",
    "\n",
    "from nltk.corpus import stopwords          # module for stop words that come with NLTK\n",
    "from nltk.stem import PorterStemmer        # module for stemming\n",
    "from nltk.tokenize import TweetTokenizer   # module for tokenizing strings"
   ]
  },
  {
   "cell_type": "code",
   "execution_count": 79,
   "id": "65e6c059",
   "metadata": {
    "scrolled": false
   },
   "outputs": [],
   "source": [
    "# turn tweet column to string\n",
    "tweet_column = data[['tweet']]\n",
    "\n",
    "tweet_string = ''\n",
    "for i in range(len(tweet_column)):\n",
    "    tweet_string += (str(tweet_column.iloc[i])[5:])[:-13]"
   ]
  },
  {
   "cell_type": "code",
   "execution_count": 82,
   "id": "3c6d4cd1",
   "metadata": {
    "scrolled": true
   },
   "outputs": [
    {
     "data": {
      "text/plain": [
       "'    \"Opportunity comes to the prepared mind.\" - Charlie Munger'"
      ]
     },
     "execution_count": 82,
     "metadata": {},
     "output_type": "execute_result"
    }
   ],
   "source": [
    "(str(tweet_column.iloc[100])[5:])[:-25]"
   ]
  },
  {
   "cell_type": "code",
   "execution_count": 84,
   "id": "7b6e5db4",
   "metadata": {},
   "outputs": [],
   "source": [
    "tweet_column2 = data2[['content']]\n",
    "\n",
    "tweet_string2 = ''\n",
    "for i in range(len(tweet_column2)):\n",
    "    tweet_string2 += (str(tweet_column2.iloc[i])[5:])[:-13]"
   ]
  },
  {
   "cell_type": "code",
   "execution_count": 95,
   "id": "5809ca1a",
   "metadata": {},
   "outputs": [
    {
     "data": {
      "text/plain": [
       "'er Hall Fuckup for a year before signing off on this monstrosity.\\\\n(or run a 1yr trial w/ currently living UGrads if you’re too scared to)\\\\nhttps://t.co/oGLeUpoA2f'"
      ]
     },
     "execution_count": 95,
     "metadata": {},
     "output_type": "execute_result"
    }
   ],
   "source": [
    "(str(tweet_column2.iloc[12])[110:])[:-24]"
   ]
  },
  {
   "cell_type": "code",
   "execution_count": 72,
   "id": "c74c717b",
   "metadata": {},
   "outputs": [
    {
     "data": {
      "text/plain": [
       "content    @ucsantabarbara Stop Munger Hall, which does N...\n",
       "Name: 6, dtype: object"
      ]
     },
     "execution_count": 72,
     "metadata": {},
     "output_type": "execute_result"
    }
   ],
   "source": [
    "tweet_column2.loc[6]"
   ]
  },
  {
   "cell_type": "code",
   "execution_count": 114,
   "id": "fde151ad",
   "metadata": {},
   "outputs": [],
   "source": [
    "# instantiate tokenizer class\n",
    "tokenizer = TweetTokenizer(preserve_case=False, strip_handles=True,\n",
    "                               reduce_len=True)\n",
    "\n",
    "# tokenize tweets\n",
    "tweet_tokens = tokenizer.tokenize(tweet_string)\n",
    "tweets_tokens2 = tokenizer.tokenize(tweet_string2)"
   ]
  },
  {
   "cell_type": "code",
   "execution_count": 112,
   "id": "cecfc4c9",
   "metadata": {
    "scrolled": true
   },
   "outputs": [
    {
     "name": "stdout",
     "output_type": "stream",
     "text": [
      "removed stop words and punctuation:\n"
     ]
    }
   ],
   "source": [
    "tweets_clean = []\n",
    "\n",
    "for word in tweet_tokens: # Go through every word in your tokens list\n",
    "    if (word not in stop_words and  # remove stopwords\n",
    "        word not in string.punctuation):  # remove punctuation\n",
    "        tweets_clean.append(word)\n",
    "\n",
    "print('removed stop words and punctuation:')\n",
    "# print(tweets_clean)\n",
    "tweets_clean_string = \" \".join(tweets_clean)"
   ]
  },
  {
   "cell_type": "code",
   "execution_count": 122,
   "id": "e50a5d46",
   "metadata": {},
   "outputs": [],
   "source": [
    "tweets_clean2 = []\n",
    "\n",
    "for word in tweets_tokens2: # Go through every word in your tokens list\n",
    "    if (word not in stop_words and  # remove stopwords\n",
    "        word not in string.punctuation):  # remove punctuation\n",
    "        tweets_clean2.append(word)\n",
    "\n",
    "tweets_clean2_string = \" \".join(tweets_clean2)"
   ]
  },
  {
   "cell_type": "code",
   "execution_count": 107,
   "id": "f3a76536",
   "metadata": {
    "scrolled": true
   },
   "outputs": [
    {
     "name": "stderr",
     "output_type": "stream",
     "text": [
      "[nltk_data] Downloading package vader_lexicon to\n",
      "[nltk_data]     /Users/stellajia/nltk_data...\n",
      "[nltk_data]   Package vader_lexicon is already up-to-date!\n"
     ]
    },
    {
     "data": {
      "text/plain": [
       "True"
      ]
     },
     "execution_count": 107,
     "metadata": {},
     "output_type": "execute_result"
    }
   ],
   "source": [
    "from nltk.sentiment import SentimentIntensityAnalyzer\n",
    "from tqdm.notebook import tqdm\n",
    "nltk.download('vader_lexicon')"
   ]
  },
  {
   "cell_type": "code",
   "execution_count": 121,
   "id": "7636400c",
   "metadata": {
    "scrolled": true
   },
   "outputs": [
    {
     "data": {
      "text/plain": [
       "{'neg': 0.108, 'neu': 0.759, 'pos': 0.133, 'compound': 1.0}"
      ]
     },
     "execution_count": 121,
     "metadata": {},
     "output_type": "execute_result"
    }
   ],
   "source": [
    "sia = SentimentIntensityAnalyzer()\n",
    "sia.polarity_scores(tweets_clean_string)"
   ]
  },
  {
   "cell_type": "code",
   "execution_count": 123,
   "id": "d1e3c069",
   "metadata": {
    "scrolled": true
   },
   "outputs": [
    {
     "data": {
      "text/plain": [
       "{'neg': 0.134, 'neu': 0.776, 'pos': 0.09, 'compound': -1.0}"
      ]
     },
     "execution_count": 123,
     "metadata": {},
     "output_type": "execute_result"
    }
   ],
   "source": [
    "sia.polarity_scores(tweets_clean2_string)"
   ]
  },
  {
   "cell_type": "code",
   "execution_count": 125,
   "id": "d185e48c",
   "metadata": {},
   "outputs": [
    {
     "data": {
      "text/plain": [
       "1148"
      ]
     },
     "execution_count": 125,
     "metadata": {},
     "output_type": "execute_result"
    }
   ],
   "source": [
    "len(tweet_column2)"
   ]
  },
  {
   "cell_type": "code",
   "execution_count": 126,
   "id": "b6d4d150",
   "metadata": {},
   "outputs": [
    {
     "data": {
      "text/plain": [
       "3913"
      ]
     },
     "execution_count": 126,
     "metadata": {},
     "output_type": "execute_result"
    }
   ],
   "source": [
    "len(tweet_column)"
   ]
  },
  {
   "cell_type": "code",
   "execution_count": 127,
   "id": "cd67c824",
   "metadata": {},
   "outputs": [],
   "source": [
    "import seaborn as sns"
   ]
  },
  {
   "cell_type": "code",
   "execution_count": 153,
   "id": "c81b1399",
   "metadata": {},
   "outputs": [],
   "source": [
    "plt.rcParams['figure.dpi'] = 200\n",
    "plt.rcParams['savefig.dpi'] = 200"
   ]
  },
  {
   "cell_type": "code",
   "execution_count": 154,
   "id": "78b258c7",
   "metadata": {
    "scrolled": false
   },
   "outputs": [
    {
     "data": {
      "image/png": "[encoded data removed]",
      "text/plain": [
       "<Figure size 1200x800 with 1 Axes>"
      ]
     },
     "metadata": {},
     "output_type": "display_data"
    },
    {
     "data": {
      "text/plain": [
       "<Figure size 1200x800 with 0 Axes>"
      ]
     },
     "metadata": {},
     "output_type": "display_data"
    }
   ],
   "source": [
    "data = [0.776, 0.134, 0.09]\n",
    "labels = ['Neutral', 'Negative', 'Positive']\n",
    "\n",
    "#define Seaborn color palette to use\n",
    "colors = sns.color_palette('Paired')\n",
    "\n",
    "#create pie chart\n",
    "plt.pie(data, labels = labels, colors = colors, autopct='%.0f%%')\n",
    "plt.title('Sentiment of language around Munger Hall on Twitter')\n",
    "plt.show()\n",
    "\n",
    "plt.savefig('sentiment')"
   ]
  }
 ],
 "metadata": {
  "kernelspec": {
   "display_name": "Python 3 (ipykernel)",
   "language": "python",
   "name": "python3"
  },
  "language_info": {
   "codemirror_mode": {
    "name": "ipython",
    "version": 3
   },
   "file_extension": ".py",
   "mimetype": "text/x-python",
   "name": "python",
   "nbconvert_exporter": "python",
   "pygments_lexer": "ipython3",
   "version": "3.9.5"
  }
 },
 "nbformat": 4,
 "nbformat_minor": 5
}
