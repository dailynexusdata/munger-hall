{
 "cells": [
  {
   "cell_type": "code",
   "execution_count": 25,
   "metadata": {},
   "outputs": [],
   "source": [
    "from textblob import TextBlob\n",
    "import pandas as pd\n",
    "# import emoji\n",
    "\n",
    "# clean out emojis? \n",
    "# text = \"game is on 🔥 🔥\"\n",
    "# emoji.demojize(text, delimiters=(\"\", \"\"))  # 'game is on fire fire'\n",
    "\n",
    "# change col_name and delimiter accordingly\n",
    "class analysis(): \n",
    "    def add_columns(file):#, col_name):\n",
    "        df = pd.read_csv(file) #delim_whitespace = True)\n",
    "        df['polarity'] = df.apply(lambda x: TextBlob(x['tweet']).sentiment.polarity, axis=1)\n",
    "        df['subjectivity'] = df.apply(lambda x: TextBlob(x['tweet']).sentiment.subjectivity, axis=1)\n",
    "        # make sure to use copy or change file parameter \n",
    "        df.to_csv(file)"
   ]
  },
  {
   "cell_type": "code",
   "execution_count": 26,
   "metadata": {},
   "outputs": [],
   "source": [
    "analysis.add_columns('example.csv')"
   ]
  }
 ],
 "metadata": {
  "kernelspec": {
   "display_name": "Python 3.7.7 ('base')",
   "language": "python",
   "name": "python3"
  },
  "language_info": {
   "codemirror_mode": {
    "name": "ipython",
    "version": 3
   },
   "file_extension": ".py",
   "mimetype": "text/x-python",
   "name": "python",
   "nbconvert_exporter": "python",
   "pygments_lexer": "ipython3",
   "version": "3.7.7"
  },
  "orig_nbformat": 4,
  "vscode": {
   "interpreter": {
    "hash": "3d597f4c481aa0f25dceb95d2a0067e73c0966dcbd003d741d821a7208527ecf"
   }
  }
 },
 "nbformat": 4,
 "nbformat_minor": 2
}
